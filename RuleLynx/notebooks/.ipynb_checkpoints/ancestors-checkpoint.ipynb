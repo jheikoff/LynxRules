{
 "cells": [
  {
   "cell_type": "code",
   "execution_count": 3,
   "id": "ebff5bdd",
   "metadata": {},
   "outputs": [
    {
     "name": "stdout",
     "output_type": "stream",
     "text": [
      "\u001b[33m                  ______      _      _                        _ _  \u001b[39m\n",
      "\u001b[33m  `\\.      ,/'    | ___ \\    | |    | |                      (_) | \u001b[39m\n",
      "\u001b[33m   |\\\\____//|     | |_/ /   _| | ___| |    _   _ _ __ __  __  _| | \u001b[39m\n",
      "\u001b[33m   )/_ `' _\\(     |    / | | | |/ _ \\ |   | | | | '_ \\\\ \\/ / | | | \u001b[39m\n",
      "\u001b[33m  ,'/-`__'-\\`\\    | |\\ \\ |_| | |  __/ |___| |_| | | | |>  < _| | | \u001b[39m\n",
      "\u001b[33m  /. (_><_) ,\\    \\_| \\_\\__,_|_|\\___\\_____/\\__, |_| |_/_/\\_(_) |_| \u001b[39m\n",
      "\u001b[33m  '`)/`--'\\(`'                              __/ |           _/ |   \u001b[39m\n",
      "\u001b[33m    '      '                               |___/           |__/    \u001b[39m\n",
      "\n",
      "\u001b[33mA Hybrid Rule-Based Inference Engine and Language in Julia\u001b[39m\n",
      "\u001b[33mRuleLynx.jl Version 0.3.3 2021-11-18\u001b[39m\n",
      "\u001b[33mUniversity of Colorado in Denver\u001b[39m\n",
      "\u001b[33mDr. Doug Williams, Adam Durkes, Joe Heikoff\u001b[39m\n"
     ]
    }
   ],
   "source": [
    "using RuleLynx\n",
    "greet()"
   ]
  },
  {
   "cell_type": "code",
   "execution_count": 5,
   "id": "b3cb1afe",
   "metadata": {},
   "outputs": [
    {
     "data": {
      "text/plain": [
       "3-element Vector{Rule}:\n",
       " Rule(:initialize, Clause[], var\"#1#2\"())\n",
       " Rule(:print_ancestors, Clause[Clause(:_request, request(_name)), Clause(nothing, parents(_name, _mother, _father))], var\"#3#4\"())\n",
       " Rule(:remove_request, Clause[Clause(nothing, priority(-100)), Clause(:_request, request(_))], var\"#5#6\"())"
      ]
     },
     "execution_count": 5,
     "metadata": {},
     "output_type": "execute_result"
    }
   ],
   "source": [
    "ruleset = Ruleset(name = :ancestor_ruleset)\n",
    "\n",
    "@rule (initialize, ruleset) begin\n",
    "  =>\n",
    "    println(\"Please enter the first name of a\")\n",
    "    println(\"person whose ancestors you would\")\n",
    "    println(\"like to find:\")\n",
    "    RuleLynx.@assert request($(Symbol(readline())))\n",
    "end\n",
    "\n",
    "@rule (print_ancestors, ruleset) begin\n",
    "    _request = request(_name)\n",
    "    parents(_name, _mother, _father)\n",
    "  =>\n",
    "    if !isnothing(_mother)\n",
    "        println(\"$_mother is an ancestor via $_name\")\n",
    "        RuleLynx.@assert request(_mother)\n",
    "    end\n",
    "    if !isnothing(_father)\n",
    "        println(\"$_father is an ancestor via $_name\")\n",
    "        RuleLynx.@assert request(_father)\n",
    "    end\n",
    "    retract(_request)\n",
    "end\n",
    "\n",
    "@rule (remove_request, ruleset) begin\n",
    "    priority(-100)\n",
    "    _request = request(_)\n",
    "  =>\n",
    "    retract(_request)\n",
    "end"
   ]
  },
  {
   "cell_type": "code",
   "execution_count": 6,
   "id": "c12539d4",
   "metadata": {},
   "outputs": [
    {
     "data": {
      "text/plain": [
       "main (generic function with 1 method)"
      ]
     },
     "execution_count": 6,
     "metadata": {},
     "output_type": "execute_result"
    }
   ],
   "source": [
    "function main()\n",
    "    @inference begin\n",
    "        activate(ruleset)\n",
    "        graph_network(\"ancestors.dot\")\n",
    "        current_inference_trace!(false)\n",
    "        RuleLynx.@assert parents(:penelope, :jessica, :jeremy)\n",
    "        RuleLynx.@assert parents(:jessica, :mary_elizabeth, :homer)\n",
    "        RuleLynx.@assert parents(:jeremy, :jenny, :steven)\n",
    "        RuleLynx.@assert parents(:steven, :loree, :john)\n",
    "        RuleLynx.@assert parents(:loree, nothing, :jason)\n",
    "        RuleLynx.@assert parents(:homer, :stephanie, nothing)\n",
    "        start_inference()\n",
    "    end\n",
    "end"
   ]
  },
  {
   "cell_type": "code",
   "execution_count": 7,
   "id": "c699b0a9",
   "metadata": {},
   "outputs": [
    {
     "name": "stdout",
     "output_type": "stream",
     "text": [
      "Activate ruleset ancestor_ruleset\n",
      "  Activating rule initialize\n",
      "  Activating rule print_ancestors\n",
      "  Activating rule remove_request\n",
      "Match ([], {}) propagated to rule node initialize\n"
     ]
    }
   ],
   "source": [
    "main()"
   ]
  },
  {
   "cell_type": "code",
   "execution_count": null,
   "id": "1a23341a",
   "metadata": {},
   "outputs": [],
   "source": []
  }
 ],
 "metadata": {
  "kernelspec": {
   "display_name": "Julia 1.7.0-rc3",
   "language": "julia",
   "name": "julia-1.7"
  },
  "language_info": {
   "file_extension": ".jl",
   "mimetype": "application/julia",
   "name": "julia",
   "version": "1.7.0"
  }
 },
 "nbformat": 4,
 "nbformat_minor": 5
}
