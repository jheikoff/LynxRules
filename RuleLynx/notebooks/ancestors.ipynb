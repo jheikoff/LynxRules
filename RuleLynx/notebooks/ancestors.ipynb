{
 "cells": [
  {
   "cell_type": "code",
   "execution_count": 1,
   "id": "ebff5bdd",
   "metadata": {
    "scrolled": true
   },
   "outputs": [
    {
     "name": "stdout",
     "output_type": "stream",
     "text": [
      "\u001b[33m                  ______      _      _                        _ _  \u001b[39m\n",
      "\u001b[33m  `\\.      ,/'    | ___ \\    | |    | |                      (_) | \u001b[39m\n",
      "\u001b[33m   |\\\\____//|     | |_/ /   _| | ___| |    _   _ _ __ __  __  _| | \u001b[39m\n",
      "\u001b[33m   )/_ `' _\\(     |    / | | | |/ _ \\ |   | | | | '_ \\\\ \\/ / | | | \u001b[39m\n",
      "\u001b[33m  ,'/-`__'-\\`\\    | |\\ \\ |_| | |  __/ |___| |_| | | | |>  < _| | | \u001b[39m\n",
      "\u001b[33m  /. (_><_) ,\\    \\_| \\_\\__,_|_|\\___\\_____/\\__, |_| |_/_/\\_(_) |_| \u001b[39m\n",
      "\u001b[33m  '`)/`--'\\(`'                              __/ |           _/ |   \u001b[39m\n",
      "\u001b[33m    '      '                               |___/           |__/    \u001b[39m\n",
      "\n",
      "\u001b[33mA Hybrid Rule-Based Inference Engine and Language in Julia\u001b[39m\n",
      "\u001b[33mRuleLynx.jl Version 0.4.1 2021-12-07\u001b[39m\n",
      "\u001b[33mUniversity of Colorado in Denver\u001b[39m\n",
      "\u001b[33mDr. Doug Williams, Adam Durkes, Joe Heikoff\u001b[39m\n"
     ]
    }
   ],
   "source": [
    "using RuleLynx\n",
    "greet()"
   ]
  },
  {
   "cell_type": "code",
   "execution_count": 2,
   "id": "b3cb1afe",
   "metadata": {},
   "outputs": [],
   "source": [
    "ruleset = Ruleset(name = :ancestor_ruleset)\n",
    "\n",
    "@rule (initialize, ruleset) begin\n",
    "  =>\n",
    "    println(\"Please enter the first name of a\")\n",
    "    println(\"person whose ancestors you would\")\n",
    "    println(\"like to find:\")\n",
    "    RuleLynx.@assert request($(Symbol(readline())))\n",
    "end\n",
    "\n",
    "@rule (print_ancestors, ruleset) begin\n",
    "    _request = request(_name)\n",
    "    parents(_name, _mother, _father)\n",
    "  =>\n",
    "    if !isnothing(_mother)\n",
    "        println(\"$_mother is an ancestor via $_name\")\n",
    "        RuleLynx.@assert request(_mother)\n",
    "    end\n",
    "    if !isnothing(_father)\n",
    "        println(\"$_father is an ancestor via $_name\")\n",
    "        RuleLynx.@assert request(_father)\n",
    "    end\n",
    "    retract(_request)\n",
    "end\n",
    "\n",
    "@rule (remove_request, ruleset) begin\n",
    "    priority(-100)\n",
    "    _request = request(_)\n",
    "  =>\n",
    "    retract(_request)\n",
    "end"
   ]
  },
  {
   "cell_type": "code",
   "execution_count": 3,
   "id": "c12539d4",
   "metadata": {},
   "outputs": [
    {
     "data": {
      "text/plain": [
       "main (generic function with 1 method)"
      ]
     },
     "execution_count": 3,
     "metadata": {},
     "output_type": "execute_result"
    }
   ],
   "source": [
    "function main()\n",
    "    @inference begin\n",
    "        activate(ruleset)\n",
    "        graph_network(\"ancestors.dot\")\n",
    "        current_inference_trace!(false)\n",
    "        RuleLynx.@assert parents(:penelope, :jessica, :jeremy)\n",
    "        RuleLynx.@assert parents(:jessica, :mary_elizabeth, :homer)\n",
    "        RuleLynx.@assert parents(:jeremy, :jenny, :steven)\n",
    "        RuleLynx.@assert parents(:steven, :loree, :john)\n",
    "        RuleLynx.@assert parents(:loree, nothing, :jason)\n",
    "        RuleLynx.@assert parents(:homer, :stephanie, nothing)\n",
    "        start_inference()\n",
    "    end\n",
    "end"
   ]
  },
  {
   "cell_type": "code",
   "execution_count": 4,
   "id": "c699b0a9",
   "metadata": {},
   "outputs": [
    {
     "name": "stdout",
     "output_type": "stream",
     "text": [
      "stdin> penelope\n",
      "Please enter the first name of a\n",
      "person whose ancestors you would\n",
      "like to find:\n",
      "jessica is an ancestor via penelope\n",
      "jeremy is an ancestor via penelope\n",
      "jenny is an ancestor via jeremy\n",
      "steven is an ancestor via jeremy\n",
      "loree is an ancestor via steven\n",
      "john is an ancestor via steven\n",
      "nothing is an ancestor via loree\n",
      "jason is an ancestor via loree\n",
      "mary_elizabeth is an ancestor via jessica\n",
      "homer is an ancestor via jessica\n",
      "stephanie is an ancestor via homer\n",
      "nothing is an ancestor via homer\n"
     ]
    }
   ],
   "source": [
    "main()"
   ]
  },
  {
   "cell_type": "code",
   "execution_count": null,
   "id": "1a23341a",
   "metadata": {},
   "outputs": [],
   "source": []
  }
 ],
 "metadata": {
  "kernelspec": {
   "display_name": "Julia 1.7.0-rc3",
   "language": "julia",
   "name": "julia-1.7"
  },
  "language_info": {
   "file_extension": ".jl",
   "mimetype": "application/julia",
   "name": "julia",
   "version": "1.7.0"
  }
 },
 "nbformat": 4,
 "nbformat_minor": 5
}
